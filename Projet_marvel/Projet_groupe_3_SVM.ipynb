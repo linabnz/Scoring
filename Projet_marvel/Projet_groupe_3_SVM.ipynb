{
 "cells": [
  {
   "cell_type": "code",
   "execution_count": 1,
   "metadata": {},
   "outputs": [],
   "source": [
    "import pandas as pd\n",
    "import numpy as np\n",
    "import matplotlib.pyplot as plt \n",
    "from sklearn import svm\n",
    "from sklearn.metrics import accuracy_score, confusion_matrix"
   ]
  },
  {
   "cell_type": "code",
   "execution_count": 2,
   "metadata": {},
   "outputs": [
    {
     "data": {
      "text/html": [
       "<div>\n",
       "<style scoped>\n",
       "    .dataframe tbody tr th:only-of-type {\n",
       "        vertical-align: middle;\n",
       "    }\n",
       "\n",
       "    .dataframe tbody tr th {\n",
       "        vertical-align: top;\n",
       "    }\n",
       "\n",
       "    .dataframe thead th {\n",
       "        text-align: right;\n",
       "    }\n",
       "</style>\n",
       "<table border=\"1\" class=\"dataframe\">\n",
       "  <thead>\n",
       "    <tr style=\"text-align: right;\">\n",
       "      <th></th>\n",
       "      <th>APPEARANCES</th>\n",
       "      <th>Year</th>\n",
       "      <th>is_gsm</th>\n",
       "      <th>is_alive</th>\n",
       "      <th>ID_Known to Authorities Identity</th>\n",
       "      <th>ID_No Dual Identity</th>\n",
       "      <th>ID_Public Identity</th>\n",
       "      <th>ID_Secret Identity</th>\n",
       "      <th>ID_nan</th>\n",
       "      <th>ALIGN_Bad Characters</th>\n",
       "      <th>...</th>\n",
       "      <th>HAIR_White Hair</th>\n",
       "      <th>HAIR_Yellow Hair</th>\n",
       "      <th>HAIR_nan</th>\n",
       "      <th>SEX_Agender Characters</th>\n",
       "      <th>SEX_Female Characters</th>\n",
       "      <th>SEX_Genderfluid Characters</th>\n",
       "      <th>SEX_Male Characters</th>\n",
       "      <th>SEX_nan</th>\n",
       "      <th>nan_appearances</th>\n",
       "      <th>nan_year</th>\n",
       "    </tr>\n",
       "    <tr>\n",
       "      <th>name</th>\n",
       "      <th></th>\n",
       "      <th></th>\n",
       "      <th></th>\n",
       "      <th></th>\n",
       "      <th></th>\n",
       "      <th></th>\n",
       "      <th></th>\n",
       "      <th></th>\n",
       "      <th></th>\n",
       "      <th></th>\n",
       "      <th></th>\n",
       "      <th></th>\n",
       "      <th></th>\n",
       "      <th></th>\n",
       "      <th></th>\n",
       "      <th></th>\n",
       "      <th></th>\n",
       "      <th></th>\n",
       "      <th></th>\n",
       "      <th></th>\n",
       "      <th></th>\n",
       "    </tr>\n",
       "  </thead>\n",
       "  <tbody>\n",
       "    <tr>\n",
       "      <th>Spider-Man (Peter Parker)</th>\n",
       "      <td>4043.0</td>\n",
       "      <td>1962.0</td>\n",
       "      <td>0.0</td>\n",
       "      <td>1.0</td>\n",
       "      <td>0.0</td>\n",
       "      <td>0.0</td>\n",
       "      <td>0.0</td>\n",
       "      <td>1.0</td>\n",
       "      <td>0.0</td>\n",
       "      <td>0.0</td>\n",
       "      <td>...</td>\n",
       "      <td>0.0</td>\n",
       "      <td>0.0</td>\n",
       "      <td>0.0</td>\n",
       "      <td>0.0</td>\n",
       "      <td>0.0</td>\n",
       "      <td>0.0</td>\n",
       "      <td>1.0</td>\n",
       "      <td>0.0</td>\n",
       "      <td>0.0</td>\n",
       "      <td>0.0</td>\n",
       "    </tr>\n",
       "    <tr>\n",
       "      <th>Captain America (Steven Rogers)</th>\n",
       "      <td>3360.0</td>\n",
       "      <td>1941.0</td>\n",
       "      <td>0.0</td>\n",
       "      <td>1.0</td>\n",
       "      <td>0.0</td>\n",
       "      <td>0.0</td>\n",
       "      <td>1.0</td>\n",
       "      <td>0.0</td>\n",
       "      <td>0.0</td>\n",
       "      <td>0.0</td>\n",
       "      <td>...</td>\n",
       "      <td>1.0</td>\n",
       "      <td>0.0</td>\n",
       "      <td>0.0</td>\n",
       "      <td>0.0</td>\n",
       "      <td>0.0</td>\n",
       "      <td>0.0</td>\n",
       "      <td>1.0</td>\n",
       "      <td>0.0</td>\n",
       "      <td>0.0</td>\n",
       "      <td>0.0</td>\n",
       "    </tr>\n",
       "    <tr>\n",
       "      <th>Wolverine (James \\\"Logan\\\" Howlett)</th>\n",
       "      <td>3061.0</td>\n",
       "      <td>1974.0</td>\n",
       "      <td>0.0</td>\n",
       "      <td>1.0</td>\n",
       "      <td>0.0</td>\n",
       "      <td>0.0</td>\n",
       "      <td>1.0</td>\n",
       "      <td>0.0</td>\n",
       "      <td>0.0</td>\n",
       "      <td>0.0</td>\n",
       "      <td>...</td>\n",
       "      <td>0.0</td>\n",
       "      <td>0.0</td>\n",
       "      <td>0.0</td>\n",
       "      <td>0.0</td>\n",
       "      <td>0.0</td>\n",
       "      <td>0.0</td>\n",
       "      <td>1.0</td>\n",
       "      <td>0.0</td>\n",
       "      <td>0.0</td>\n",
       "      <td>0.0</td>\n",
       "    </tr>\n",
       "    <tr>\n",
       "      <th>Iron Man (Anthony \\\"Tony\\\" Stark)</th>\n",
       "      <td>2961.0</td>\n",
       "      <td>1963.0</td>\n",
       "      <td>0.0</td>\n",
       "      <td>1.0</td>\n",
       "      <td>0.0</td>\n",
       "      <td>0.0</td>\n",
       "      <td>1.0</td>\n",
       "      <td>0.0</td>\n",
       "      <td>0.0</td>\n",
       "      <td>0.0</td>\n",
       "      <td>...</td>\n",
       "      <td>0.0</td>\n",
       "      <td>0.0</td>\n",
       "      <td>0.0</td>\n",
       "      <td>0.0</td>\n",
       "      <td>0.0</td>\n",
       "      <td>0.0</td>\n",
       "      <td>1.0</td>\n",
       "      <td>0.0</td>\n",
       "      <td>0.0</td>\n",
       "      <td>0.0</td>\n",
       "    </tr>\n",
       "    <tr>\n",
       "      <th>Thor (Thor Odinson)</th>\n",
       "      <td>2258.0</td>\n",
       "      <td>1950.0</td>\n",
       "      <td>0.0</td>\n",
       "      <td>1.0</td>\n",
       "      <td>0.0</td>\n",
       "      <td>1.0</td>\n",
       "      <td>0.0</td>\n",
       "      <td>0.0</td>\n",
       "      <td>0.0</td>\n",
       "      <td>0.0</td>\n",
       "      <td>...</td>\n",
       "      <td>0.0</td>\n",
       "      <td>0.0</td>\n",
       "      <td>0.0</td>\n",
       "      <td>0.0</td>\n",
       "      <td>0.0</td>\n",
       "      <td>0.0</td>\n",
       "      <td>1.0</td>\n",
       "      <td>0.0</td>\n",
       "      <td>0.0</td>\n",
       "      <td>0.0</td>\n",
       "    </tr>\n",
       "  </tbody>\n",
       "</table>\n",
       "<p>5 rows × 71 columns</p>\n",
       "</div>"
      ],
      "text/plain": [
       "                                     APPEARANCES    Year  is_gsm  is_alive  \\\n",
       "name                                                                         \n",
       "Spider-Man (Peter Parker)                 4043.0  1962.0     0.0       1.0   \n",
       "Captain America (Steven Rogers)           3360.0  1941.0     0.0       1.0   \n",
       "Wolverine (James \\\"Logan\\\" Howlett)       3061.0  1974.0     0.0       1.0   \n",
       "Iron Man (Anthony \\\"Tony\\\" Stark)         2961.0  1963.0     0.0       1.0   \n",
       "Thor (Thor Odinson)                       2258.0  1950.0     0.0       1.0   \n",
       "\n",
       "                                     ID_Known to Authorities Identity  \\\n",
       "name                                                                    \n",
       "Spider-Man (Peter Parker)                                         0.0   \n",
       "Captain America (Steven Rogers)                                   0.0   \n",
       "Wolverine (James \\\"Logan\\\" Howlett)                               0.0   \n",
       "Iron Man (Anthony \\\"Tony\\\" Stark)                                 0.0   \n",
       "Thor (Thor Odinson)                                               0.0   \n",
       "\n",
       "                                     ID_No Dual Identity  ID_Public Identity  \\\n",
       "name                                                                           \n",
       "Spider-Man (Peter Parker)                            0.0                 0.0   \n",
       "Captain America (Steven Rogers)                      0.0                 1.0   \n",
       "Wolverine (James \\\"Logan\\\" Howlett)                  0.0                 1.0   \n",
       "Iron Man (Anthony \\\"Tony\\\" Stark)                    0.0                 1.0   \n",
       "Thor (Thor Odinson)                                  1.0                 0.0   \n",
       "\n",
       "                                     ID_Secret Identity  ID_nan  \\\n",
       "name                                                              \n",
       "Spider-Man (Peter Parker)                           1.0     0.0   \n",
       "Captain America (Steven Rogers)                     0.0     0.0   \n",
       "Wolverine (James \\\"Logan\\\" Howlett)                 0.0     0.0   \n",
       "Iron Man (Anthony \\\"Tony\\\" Stark)                   0.0     0.0   \n",
       "Thor (Thor Odinson)                                 0.0     0.0   \n",
       "\n",
       "                                     ALIGN_Bad Characters    ...     \\\n",
       "name                                                         ...      \n",
       "Spider-Man (Peter Parker)                             0.0    ...      \n",
       "Captain America (Steven Rogers)                       0.0    ...      \n",
       "Wolverine (James \\\"Logan\\\" Howlett)                   0.0    ...      \n",
       "Iron Man (Anthony \\\"Tony\\\" Stark)                     0.0    ...      \n",
       "Thor (Thor Odinson)                                   0.0    ...      \n",
       "\n",
       "                                     HAIR_White Hair  HAIR_Yellow Hair  \\\n",
       "name                                                                     \n",
       "Spider-Man (Peter Parker)                        0.0               0.0   \n",
       "Captain America (Steven Rogers)                  1.0               0.0   \n",
       "Wolverine (James \\\"Logan\\\" Howlett)              0.0               0.0   \n",
       "Iron Man (Anthony \\\"Tony\\\" Stark)                0.0               0.0   \n",
       "Thor (Thor Odinson)                              0.0               0.0   \n",
       "\n",
       "                                     HAIR_nan  SEX_Agender Characters  \\\n",
       "name                                                                    \n",
       "Spider-Man (Peter Parker)                 0.0                     0.0   \n",
       "Captain America (Steven Rogers)           0.0                     0.0   \n",
       "Wolverine (James \\\"Logan\\\" Howlett)       0.0                     0.0   \n",
       "Iron Man (Anthony \\\"Tony\\\" Stark)         0.0                     0.0   \n",
       "Thor (Thor Odinson)                       0.0                     0.0   \n",
       "\n",
       "                                     SEX_Female Characters  \\\n",
       "name                                                         \n",
       "Spider-Man (Peter Parker)                              0.0   \n",
       "Captain America (Steven Rogers)                        0.0   \n",
       "Wolverine (James \\\"Logan\\\" Howlett)                    0.0   \n",
       "Iron Man (Anthony \\\"Tony\\\" Stark)                      0.0   \n",
       "Thor (Thor Odinson)                                    0.0   \n",
       "\n",
       "                                     SEX_Genderfluid Characters  \\\n",
       "name                                                              \n",
       "Spider-Man (Peter Parker)                                   0.0   \n",
       "Captain America (Steven Rogers)                             0.0   \n",
       "Wolverine (James \\\"Logan\\\" Howlett)                         0.0   \n",
       "Iron Man (Anthony \\\"Tony\\\" Stark)                           0.0   \n",
       "Thor (Thor Odinson)                                         0.0   \n",
       "\n",
       "                                     SEX_Male Characters  SEX_nan  \\\n",
       "name                                                                \n",
       "Spider-Man (Peter Parker)                            1.0      0.0   \n",
       "Captain America (Steven Rogers)                      1.0      0.0   \n",
       "Wolverine (James \\\"Logan\\\" Howlett)                  1.0      0.0   \n",
       "Iron Man (Anthony \\\"Tony\\\" Stark)                    1.0      0.0   \n",
       "Thor (Thor Odinson)                                  1.0      0.0   \n",
       "\n",
       "                                     nan_appearances  nan_year  \n",
       "name                                                            \n",
       "Spider-Man (Peter Parker)                        0.0       0.0  \n",
       "Captain America (Steven Rogers)                  0.0       0.0  \n",
       "Wolverine (James \\\"Logan\\\" Howlett)              0.0       0.0  \n",
       "Iron Man (Anthony \\\"Tony\\\" Stark)                0.0       0.0  \n",
       "Thor (Thor Odinson)                              0.0       0.0  \n",
       "\n",
       "[5 rows x 71 columns]"
      ]
     },
     "execution_count": 2,
     "metadata": {},
     "output_type": "execute_result"
    }
   ],
   "source": [
    "marvel = pd.read_csv(\"marvel_no_limit.csv\", index_col=0)\n",
    "marvel.info\n",
    "\n",
    "X = marvel.drop(columns=['is_alive'], axis=1)\n",
    "y = marvel['is_alive']\n",
    "#X.head()\n",
    "#y.head()\n",
    "marvel.head()\n",
    "\n"
   ]
  },
  {
   "cell_type": "code",
   "execution_count": 6,
   "metadata": {},
   "outputs": [
    {
     "data": {
      "text/plain": [
       "SVC(C=1.0, cache_size=200, class_weight=None, coef0=0.0,\n",
       "  decision_function_shape='ovr', degree=3, gamma='auto', kernel='linear',\n",
       "  max_iter=-1, probability=False, random_state=None, shrinking=True,\n",
       "  tol=0.001, verbose=False)"
      ]
     },
     "execution_count": 6,
     "metadata": {},
     "output_type": "execute_result"
    }
   ],
   "source": [
    "#SVM LINEAIRE :\n",
    "clf = svm.SVC(kernel='linear')\n",
    "clf.fit(X, y)"
   ]
  },
  {
   "cell_type": "code",
   "execution_count": 7,
   "metadata": {},
   "outputs": [
    {
     "name": "stdout",
     "output_type": "stream",
     "text": [
      "[[ -3.19091215e-08   2.04054231e-06  -2.52476414e-05   2.50497837e-05\n",
      "   -1.33807752e-05  -1.86952960e-06  -7.76384391e-06  -2.03563421e-06\n",
      "    1.42963721e-07   2.21028863e-06  -4.05397139e-06   1.70071720e-06\n",
      "    4.25520476e-02   4.33460069e-02   4.25560839e-02   4.25594034e-02\n",
      "    4.25577477e-02   4.25795704e-02   4.24166846e-02   4.25471206e-02\n",
      "    4.25461164e-02   4.25352271e-02   2.08336597e-02  -1.00000000e+00\n",
      "    4.25151987e-02   4.25166663e-02   4.25506161e-02   4.25520922e-02\n",
      "    4.25641453e-02   4.25521290e-02   4.24260266e-02   4.25964967e-02\n",
      "    4.25052636e-02   4.25556428e-02   4.25246164e-02   4.25542320e-02\n",
      "    4.25572061e-02  -9.51499986e-04  -9.55129587e-04  -9.55023232e-04\n",
      "   -9.52316658e-04  -9.63176045e-04   0.00000000e+00  -9.58928986e-04\n",
      "    0.00000000e+00  -8.00121348e-04  -9.47783440e-04  -9.59759763e-04\n",
      "   -9.65192918e-04   2.08336597e-02  -9.50753246e-04  -9.63183305e-04\n",
      "    0.00000000e+00  -9.50610584e-04  -9.74636026e-04  -9.50216386e-04\n",
      "   -9.80133116e-04  -8.80722534e-04  -9.23320688e-04  -1.00705677e-03\n",
      "   -9.52628315e-04  -9.38263550e-04  -9.53203234e-04  -1.53983347e-04\n",
      "   -1.37191757e-04   5.68814343e-04  -1.35499156e-04  -1.42140086e-04\n",
      "   -8.51374583e-06  -1.63115597e-04]]\n",
      "[ 0.95448971]\n"
     ]
    }
   ],
   "source": [
    "print(clf.coef_)\n",
    "print(clf.intercept_)"
   ]
  },
  {
   "cell_type": "code",
   "execution_count": 11,
   "metadata": {},
   "outputs": [],
   "source": [
    "predict_y=clf.predict(X)"
   ]
  },
  {
   "cell_type": "code",
   "execution_count": 13,
   "metadata": {},
   "outputs": [
    {
     "name": "stdout",
     "output_type": "stream",
     "text": [
      "Accuracy : 0.7701093263299335\n"
     ]
    }
   ],
   "source": [
    "accuracy = accuracy_score(y,predict_y)\n",
    "print(f'Accuracy : {accuracy}')"
   ]
  },
  {
   "cell_type": "code",
   "execution_count": 14,
   "metadata": {},
   "outputs": [
    {
     "name": "stdout",
     "output_type": "stream",
     "text": [
      "Confusion Matrix : [[    4  3761]\n",
      " [    3 12605]]\n"
     ]
    }
   ],
   "source": [
    "matrice_confusion= confusion_matrix(y,predict_y)\n",
    "print (f'Confusion Matrix : {matrice_confusion}')"
   ]
  },
  {
   "cell_type": "code",
   "execution_count": 3,
   "metadata": {},
   "outputs": [
    {
     "data": {
      "image/png": "[encoded data removed]",
      "text/plain": [
       "<Figure size 432x288 with 2 Axes>"
      ]
     },
     "metadata": {},
     "output_type": "display_data"
    }
   ],
   "source": [
    "from sklearn.metrics import confusion_matrix\n",
    "import matplotlib.pyplot as plt\n",
    "\n",
    "\n",
    "matrice_confusion = [[4, 3761], [3, 12605]]\n",
    "\n",
    "\n",
    "plt.imshow(matrice_confusion, interpolation='nearest', cmap=plt.cm.Blues)\n",
    "\n",
    "\n",
    "for i in range(len(matrice_confusion)):\n",
    "    for j in range(len(matrice_confusion[i])):\n",
    "        plt.text(j, i, str(matrice_confusion[i][j]), ha='center', va='center', color='red')\n",
    "\n",
    "plt.title('Matrice de confusion')\n",
    "plt.colorbar()\n",
    "classes = ['Décédés', 'survivants']\n",
    "tick_marks = range(len(classes))\n",
    "plt.xticks(tick_marks, classes)\n",
    "plt.yticks(tick_marks, classes)\n",
    "\n",
    "plt.ylabel('Vraies étiquettes')\n",
    "plt.xlabel('Étiquettes prédites')\n",
    "plt.show()"
   ]
  },
  {
   "cell_type": "code",
   "execution_count": 20,
   "metadata": {},
   "outputs": [
    {
     "data": {
      "text/plain": [
       "SVC(C=1.0, cache_size=200, class_weight=None, coef0=0.0,\n",
       "  decision_function_shape='ovr', degree=3, gamma='auto', kernel='rbf',\n",
       "  max_iter=-1, probability=False, random_state=None, shrinking=True,\n",
       "  tol=0.001, verbose=False)"
      ]
     },
     "execution_count": 20,
     "metadata": {},
     "output_type": "execute_result"
    }
   ],
   "source": [
    "#SVM NON LINEAIRE :\n",
    "clf_rbf=svm.SVC(kernel='rbf')\n",
    "clf_rbf.fit(X,y)"
   ]
  },
  {
   "cell_type": "code",
   "execution_count": 23,
   "metadata": {},
   "outputs": [],
   "source": [
    "predict_y1=clf_rbf.predict(X)"
   ]
  },
  {
   "cell_type": "code",
   "execution_count": 24,
   "metadata": {},
   "outputs": [
    {
     "name": "stdout",
     "output_type": "stream",
     "text": [
      "Accuracy : 0.7709033164355952\n"
     ]
    }
   ],
   "source": [
    "accuracy = accuracy_score(y,predict_y1)\n",
    "print(f'Accuracy : {accuracy}')"
   ]
  },
  {
   "cell_type": "code",
   "execution_count": 25,
   "metadata": {},
   "outputs": [
    {
     "name": "stdout",
     "output_type": "stream",
     "text": [
      "Confusion Matrix : [[   15  3750]\n",
      " [    1 12607]]\n"
     ]
    }
   ],
   "source": [
    "matrice_confusion= confusion_matrix(y,predict_y1)\n",
    "print (f'Confusion Matrix : {matrice_confusion}')"
   ]
  },
  {
   "cell_type": "code",
   "execution_count": 4,
   "metadata": {},
   "outputs": [
    {
     "data": {
      "image/png": "[encoded data removed]",
      "text/plain": [
       "<Figure size 432x288 with 2 Axes>"
      ]
     },
     "metadata": {},
     "output_type": "display_data"
    }
   ],
   "source": [
    "from sklearn.metrics import confusion_matrix\n",
    "import matplotlib.pyplot as plt\n",
    "\n",
    "\n",
    "matrice_confusion = [[15, 3750], [1, 12607]]\n",
    "\n",
    "\n",
    "plt.imshow(matrice_confusion, interpolation='nearest', cmap=plt.cm.Blues)\n",
    "\n",
    "\n",
    "for i in range(len(matrice_confusion)):\n",
    "    for j in range(len(matrice_confusion[i])):\n",
    "        plt.text(j, i, str(matrice_confusion[i][j]), ha='center', va='center', color='red')\n",
    "\n",
    "plt.title('Matrice de confusion')\n",
    "plt.colorbar()\n",
    "classes = ['Décédés', 'survivants']\n",
    "tick_marks = range(len(classes))\n",
    "plt.xticks(tick_marks, classes)\n",
    "plt.yticks(tick_marks, classes)\n",
    "\n",
    "plt.ylabel('Vraies étiquettes')\n",
    "plt.xlabel('Étiquettes prédites')\n",
    "plt.show()"
   ]
  }
 ],
 "metadata": {
  "kernelspec": {
   "display_name": "Python 3",
   "language": "python",
   "name": "python3"
  },
  "language_info": {
   "codemirror_mode": {
    "name": "ipython",
    "version": 3
   },
   "file_extension": ".py",
   "mimetype": "text/x-python",
   "name": "python",
   "nbconvert_exporter": "python",
   "pygments_lexer": "ipython3",
   "version": "3.6.3"
  }
 },
 "nbformat": 4,
 "nbformat_minor": 2
}
