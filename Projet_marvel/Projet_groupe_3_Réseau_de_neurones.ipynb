{
 "cells": [
  {
   "cell_type": "code",
   "execution_count": 2,
   "metadata": {},
   "outputs": [],
   "source": [
    "import numpy as np\n",
    "from sklearn import datasets\n",
    "from matplotlib import pyplot as plt\n",
    "import pandas as pd\n",
    "from sklearn.model_selection import train_test_split\n",
    "from sklearn.metrics import accuracy_score\n",
    "from sklearn.svm import SVC\n",
    "from sklearn.neural_network import MLPClassifier \n",
    "from sklearn.metrics import accuracy_score\n",
    "from sklearn.svm import SVC"
   ]
  },
  {
   "cell_type": "code",
   "execution_count": 3,
   "metadata": {},
   "outputs": [],
   "source": [
    "df = pd.read_csv('marvel_no_limit.csv', index_col=0)"
   ]
  },
  {
   "cell_type": "markdown",
   "metadata": {},
   "source": [
    " Partie : RESEAU DE NEURONES"
   ]
  },
  {
   "cell_type": "code",
   "execution_count": 42,
   "metadata": {},
   "outputs": [
    {
     "name": "stdout",
     "output_type": "stream",
     "text": [
      "Iteration 1, loss = 1.06673222\n",
      "Iteration 2, loss = 0.58226280\n",
      "Iteration 3, loss = 0.59369260\n",
      "Iteration 4, loss = 0.56838746\n",
      "Iteration 5, loss = 0.57120897\n",
      "Iteration 6, loss = 0.60241657\n",
      "Iteration 7, loss = 0.65403201\n",
      "Training loss did not improve more than tol=0.000100 for two consecutive epochs. Stopping.\n",
      "accuracy = 0.7696629213483146\n"
     ]
    }
   ],
   "source": [
    "# entrainement avec parametres standards\n",
    "X = df.loc[:, df.columns != 'is_alive']\n",
    "y = df.loc[:, 'is_alive']\n",
    "X_train, X_test, y_train, y_test = train_test_split(X, y)\n",
    "\n",
    "mlp = MLPClassifier(activation='relu', verbose=True)\n",
    "mlp.fit(X_train, y_train)\n",
    "\n",
    "svc = SVC()\n",
    "svc.fit(X_train, y_train)\n",
    "ac = accuracy_score(y_test, svc.predict(X_test))\n",
    "print(f\"accuracy = {ac}\")"
   ]
  },
  {
   "cell_type": "code",
   "execution_count": 55,
   "metadata": {},
   "outputs": [
    {
     "name": "stdout",
     "output_type": "stream",
     "text": [
      "Iteration 1, loss = 1.81820767\n",
      "Iteration 2, loss = 0.56964849\n",
      "Iteration 3, loss = 0.59305035\n",
      "Iteration 4, loss = 0.60298699\n",
      "Iteration 5, loss = 0.57782227\n",
      "Training loss did not improve more than tol=0.000100 for two consecutive epochs. Stopping.\n",
      "accuracy = 0.7746564885496183\n"
     ]
    }
   ],
   "source": [
    "#80 % données et 20 % test\n",
    "X = df.loc[:, df.columns != 'is_alive']\n",
    "y = df.loc[:, 'is_alive']\n",
    "X_train, X_test, y_train, y_test = train_test_split(X, y, test_size=0.2)\n",
    "\n",
    "mlp = MLPClassifier(activation='relu', verbose=True)\n",
    "mlp.fit(X_train, y_train)\n",
    "\n",
    "svc = SVC()\n",
    "svc.fit(X_train, y_train)\n",
    "ac = accuracy_score(y_test, svc.predict(X_test))\n",
    "print(f\"accuracy = {ac}\")"
   ]
  },
  {
   "cell_type": "code",
   "execution_count": 13,
   "metadata": {},
   "outputs": [],
   "source": [
    "#avec plus de neurones"
   ]
  },
  {
   "cell_type": "code",
   "execution_count": 49,
   "metadata": {},
   "outputs": [
    {
     "name": "stdout",
     "output_type": "stream",
     "text": [
      "Iteration 1, loss = 5.31063035\n",
      "Iteration 2, loss = 1.22054606\n",
      "Iteration 3, loss = 0.63073514\n",
      "Iteration 4, loss = 0.61956570\n",
      "Iteration 5, loss = 0.60968385\n",
      "Iteration 6, loss = 0.60078327\n",
      "Iteration 7, loss = 0.59282852\n",
      "Iteration 8, loss = 0.58569819\n",
      "Iteration 9, loss = 0.57938532\n",
      "Iteration 10, loss = 0.57375374\n",
      "Iteration 11, loss = 0.56886981\n",
      "Iteration 12, loss = 0.56458046\n",
      "Iteration 13, loss = 0.56096121\n",
      "Iteration 14, loss = 0.55773170\n",
      "Iteration 15, loss = 0.55480064\n",
      "Iteration 16, loss = 0.55244504\n",
      "Iteration 17, loss = 0.55010230\n",
      "Iteration 18, loss = 0.54865930\n",
      "Iteration 19, loss = 0.54704414\n",
      "Iteration 20, loss = 0.54586386\n",
      "Iteration 21, loss = 0.54472220\n",
      "Iteration 22, loss = 0.54363377\n",
      "Iteration 23, loss = 0.54321033\n",
      "Iteration 24, loss = 0.54255731\n",
      "Iteration 25, loss = 0.54189327\n",
      "Iteration 26, loss = 0.54143758\n",
      "Iteration 27, loss = 0.54091263\n",
      "Iteration 28, loss = 0.54085803\n",
      "Iteration 29, loss = 0.54033501\n",
      "Iteration 30, loss = 0.54072676\n",
      "Iteration 31, loss = 0.54031710\n",
      "Iteration 32, loss = 0.54018465\n",
      "Iteration 33, loss = 0.53998361\n",
      "Iteration 34, loss = 0.54020833\n",
      "Iteration 35, loss = 0.53997548\n",
      "Iteration 36, loss = 0.53997980\n",
      "Training loss did not improve more than tol=0.000100 for two consecutive epochs. Stopping.\n"
     ]
    },
    {
     "data": {
      "text/plain": [
       "0.77137274059599414"
      ]
     },
     "execution_count": 49,
     "metadata": {},
     "output_type": "execute_result"
    }
   ],
   "source": [
    "X = df.loc[:, df.columns != 'is_alive']\n",
    "y = df.loc[:, 'is_alive']\n",
    "X_train, X_test, y_train, y_test = train_test_split(X, y)\n",
    "\n",
    "mlp = MLPClassifier(activation='relu', hidden_layer_sizes=(3,), verbose=True)\n",
    "mlp.fit(X_train, y_train)\n",
    "\n",
    "svc = SVC()\n",
    "svc.fit(X_train, y_train)\n",
    "accuracy_score(y_test, svc.predict(X_test))"
   ]
  },
  {
   "cell_type": "code",
   "execution_count": 19,
   "metadata": {},
   "outputs": [
    {
     "name": "stdout",
     "output_type": "stream",
     "text": [
      "Iteration 1, loss = 6.85462421\n",
      "Iteration 2, loss = 0.93519223\n",
      "Iteration 3, loss = 0.56623204\n",
      "Iteration 4, loss = 0.56690294\n",
      "Iteration 5, loss = 0.53528720\n",
      "Iteration 6, loss = 0.54211611\n",
      "Iteration 7, loss = 0.62372504\n",
      "Iteration 8, loss = 0.59217188\n",
      "Training loss did not improve more than tol=0.000100 for two consecutive epochs. Stopping.\n",
      "Iteration 1, loss = 6.85462421\n",
      "Iteration 2, loss = 0.93519223\n",
      "Iteration 3, loss = 0.56623204\n",
      "Iteration 4, loss = 0.56690294\n",
      "Iteration 5, loss = 0.53528720\n",
      "Iteration 6, loss = 0.54211611\n",
      "Iteration 7, loss = 0.62372504\n",
      "Iteration 8, loss = 0.59217188\n",
      "Training loss did not improve more than tol=0.000100 for two consecutive epochs. Stopping.\n",
      "Iteration 1, loss = 3.96350587\n",
      "Iteration 2, loss = 2.52792966\n",
      "Iteration 3, loss = 2.29437931\n",
      "Iteration 4, loss = 1.46885524\n",
      "Iteration 5, loss = 0.97251689\n",
      "Iteration 6, loss = 1.45368611\n",
      "Iteration 7, loss = 3.49715489\n",
      "Iteration 8, loss = 1.47375462\n",
      "Training loss did not improve more than tol=0.000100 for two consecutive epochs. Stopping.\n",
      "Iteration 1, loss = 3.96350587\n",
      "Iteration 2, loss = 2.52792966\n",
      "Iteration 3, loss = 2.29437931\n",
      "Iteration 4, loss = 1.46885524\n",
      "Iteration 5, loss = 0.97251689\n",
      "Iteration 6, loss = 1.45368611\n",
      "Iteration 7, loss = 3.49715489\n",
      "Iteration 8, loss = 1.47375462\n",
      "Training loss did not improve more than tol=0.000100 for two consecutive epochs. Stopping.\n",
      "Iteration 1, loss = 3.98934124\n",
      "Iteration 2, loss = 2.05891233\n",
      "Iteration 3, loss = 1.02613897\n",
      "Iteration 4, loss = 0.67915622\n",
      "Iteration 5, loss = 0.59323448\n",
      "Iteration 6, loss = 1.07256729\n",
      "Iteration 7, loss = 2.20029830\n",
      "Iteration 8, loss = 0.85030474\n",
      "Training loss did not improve more than tol=0.000100 for two consecutive epochs. Stopping.\n",
      "Iteration 1, loss = 3.98934124\n",
      "Iteration 2, loss = 2.05891233\n",
      "Iteration 3, loss = 1.02613897\n",
      "Iteration 4, loss = 0.67915622\n",
      "Iteration 5, loss = 0.59323448\n",
      "Iteration 6, loss = 1.07256729\n",
      "Iteration 7, loss = 2.20029830\n",
      "Iteration 8, loss = 0.85030474\n",
      "Training loss did not improve more than tol=0.000100 for two consecutive epochs. Stopping.\n",
      "Iteration 1, loss = 2.62822326\n",
      "Iteration 2, loss = 0.70836673\n",
      "Iteration 3, loss = 0.75904170\n",
      "Iteration 4, loss = 0.59290825\n",
      "Iteration 5, loss = 0.56325462\n",
      "Iteration 6, loss = 0.63181334\n",
      "Iteration 7, loss = 0.61640141\n",
      "Iteration 8, loss = 0.57814378\n",
      "Training loss did not improve more than tol=0.000100 for two consecutive epochs. Stopping.\n",
      "Iteration 1, loss = 2.62822326\n",
      "Iteration 2, loss = 0.70836673\n",
      "Iteration 3, loss = 0.75904170\n",
      "Iteration 4, loss = 0.59290825\n",
      "Iteration 5, loss = 0.56325462\n",
      "Iteration 6, loss = 0.63181334\n",
      "Iteration 7, loss = 0.61640141\n",
      "Iteration 8, loss = 0.57814378\n",
      "Training loss did not improve more than tol=0.000100 for two consecutive epochs. Stopping.\n",
      "Iteration 1, loss = 1.70387247\n",
      "Iteration 2, loss = 0.57997546\n",
      "Iteration 3, loss = 0.58541407\n",
      "Iteration 4, loss = 0.55519457\n",
      "Iteration 5, loss = 0.58320153\n",
      "Iteration 6, loss = 0.55953041\n",
      "Iteration 7, loss = 0.54954361\n",
      "Iteration 8, loss = 0.57057704\n",
      "Iteration 9, loss = 0.55872369\n",
      "Iteration 10, loss = 0.55537014\n",
      "Training loss did not improve more than tol=0.000100 for two consecutive epochs. Stopping.\n",
      "Iteration 1, loss = 1.70387247\n",
      "Iteration 2, loss = 0.57997546\n",
      "Iteration 3, loss = 0.58541407\n",
      "Iteration 4, loss = 0.55519457\n",
      "Iteration 5, loss = 0.58320153\n",
      "Iteration 6, loss = 0.55953041\n",
      "Iteration 7, loss = 0.54954361\n",
      "Iteration 8, loss = 0.57057704\n",
      "Iteration 9, loss = 0.55872369\n",
      "Iteration 10, loss = 0.55537014\n",
      "Training loss did not improve more than tol=0.000100 for two consecutive epochs. Stopping.\n"
     ]
    }
   ],
   "source": [
    "#on fait varier le nombre de couches cachées \n",
    "I = np.arange(1, 100, 20)\n",
    "I_r = I.copy()\n",
    "J = np.zeros(np.shape(I))\n",
    "J_r = J.copy()\n",
    "hls = []\n",
    "for i in range(len(I)):\n",
    "    X = df.loc[:, df.columns != 'is_alive']\n",
    "    y = df.loc[:, 'is_alive']\n",
    "    X_train, X_test, y_train, y_test = train_test_split(X, y, random_state = I[i])\n",
    "    hls += [100]\n",
    "    mlp = MLPClassifier(activation='relu', random_state=1, hidden_layer_sizes=hls, verbose=True)    \n",
    "    mlp_r = MLPClassifier(activation='relu', random_state=1, hidden_layer_sizes=hls, verbose=True)\n",
    "\n",
    "    mlp.fit(X_train, y_train)\n",
    "    mlp_r.fit(X_train, y_train)\n",
    "    svc = SVC()\n",
    "    svc_r = SVC()\n",
    "    svc.fit(X_train, y_train)\n",
    "    svc_r.fit(X_train, y_train)\n",
    "\n",
    "    ac = accuracy_score(y_test, svc.predict(X_test))\n",
    "    ac_r = accuracy_score(y_test, svc_r.predict(X_test))\n",
    "\n",
    "    J[i]+=ac\n",
    "    J_r[i]+=ac_r"
   ]
  },
  {
   "cell_type": "code",
   "execution_count": 21,
   "metadata": {},
   "outputs": [
    {
     "data": {
      "text/plain": [
       "<matplotlib.collections.PathCollection at 0x7f3b23cd8860>"
      ]
     },
     "execution_count": 21,
     "metadata": {},
     "output_type": "execute_result"
    },
    {
     "data": {
      "image/png": "[encoded data removed]",
      "text/plain": [
       "<Figure size 432x288 with 1 Axes>"
      ]
     },
     "metadata": {},
     "output_type": "display_data"
    }
   ],
   "source": [
    "plt.scatter(I,J, c='blue')\n",
    "plt.scatter(I_r, J_r, c='red')"
   ]
  },
  {
   "cell_type": "code",
   "execution_count": 22,
   "metadata": {},
   "outputs": [
    {
     "data": {
      "text/plain": [
       "<matplotlib.collections.PathCollection at 0x7f3b23cabb70>"
      ]
     },
     "execution_count": 22,
     "metadata": {},
     "output_type": "execute_result"
    },
    {
     "data": {
      "image/png": "[encoded data removed]",
      "text/plain": [
       "<Figure size 432x288 with 1 Axes>"
      ]
     },
     "metadata": {},
     "output_type": "display_data"
    }
   ],
   "source": [
    "plt.scatter(I,J, c='blue')\n"
   ]
  },
  {
   "cell_type": "code",
   "execution_count": 25,
   "metadata": {},
   "outputs": [
    {
     "data": {
      "text/plain": [
       "<matplotlib.collections.PathCollection at 0x7f3b23bee2e8>"
      ]
     },
     "execution_count": 25,
     "metadata": {},
     "output_type": "execute_result"
    },
    {
     "data": {
      "image/png": "[encoded data removed]",
      "text/plain": [
       "<Figure size 432x288 with 1 Axes>"
      ]
     },
     "metadata": {},
     "output_type": "display_data"
    }
   ],
   "source": [
    "plt.scatter(np.array([0, 20, 40, 60, 80]), np.abs(J_r-J), c='blue')\n"
   ]
  },
  {
   "cell_type": "code",
   "execution_count": 53,
   "metadata": {},
   "outputs": [
    {
     "name": "stdout",
     "output_type": "stream",
     "text": [
      "Iteration 1, loss = 17.71822917\n",
      "Iteration 2, loss = 17.69696845\n",
      "Iteration 3, loss = 17.64410245\n",
      "Iteration 4, loss = 16.27077098\n",
      "Iteration 5, loss = 0.86920873\n",
      "Iteration 6, loss = 0.56283191\n",
      "Iteration 7, loss = 0.56217261\n",
      "Iteration 8, loss = 0.56146881\n",
      "Iteration 9, loss = 0.56072335\n",
      "Iteration 10, loss = 0.55995092\n",
      "Iteration 11, loss = 0.55914899\n",
      "Iteration 12, loss = 0.55832217\n",
      "Iteration 13, loss = 0.55748457\n",
      "Iteration 14, loss = 0.55662112\n",
      "Iteration 15, loss = 0.55576125\n",
      "Iteration 16, loss = 0.55489619\n",
      "Iteration 17, loss = 0.55404220\n",
      "Iteration 18, loss = 0.55320383\n",
      "Iteration 19, loss = 0.55236355\n",
      "Iteration 20, loss = 0.55154211\n",
      "Iteration 21, loss = 0.55073432\n",
      "Iteration 22, loss = 0.54995702\n",
      "Iteration 23, loss = 0.54919952\n",
      "Iteration 24, loss = 0.54846765\n",
      "Iteration 25, loss = 0.54776367\n",
      "Iteration 26, loss = 0.54708728\n",
      "Iteration 27, loss = 0.54643813\n",
      "Iteration 28, loss = 0.54583651\n",
      "Iteration 29, loss = 0.54526209\n",
      "Iteration 30, loss = 0.54472547\n",
      "Iteration 31, loss = 0.54422306\n",
      "Iteration 32, loss = 0.54373858\n",
      "Iteration 33, loss = 0.54330364\n",
      "Iteration 34, loss = 0.54289853\n",
      "Iteration 35, loss = 0.54253172\n",
      "Iteration 36, loss = 0.54220050\n",
      "Iteration 37, loss = 0.54189765\n",
      "Iteration 38, loss = 0.54162744\n",
      "Iteration 39, loss = 0.54137770\n",
      "Iteration 40, loss = 0.54114899\n",
      "Iteration 41, loss = 0.54094804\n",
      "Iteration 42, loss = 0.54076947\n",
      "Iteration 43, loss = 0.54061628\n",
      "Iteration 44, loss = 0.54047490\n",
      "Iteration 45, loss = 0.54035704\n",
      "Iteration 46, loss = 0.54024736\n",
      "Iteration 47, loss = 0.54016210\n",
      "Iteration 48, loss = 0.54008546\n",
      "Iteration 49, loss = 0.54002292\n",
      "Training loss did not improve more than tol=0.000100 for two consecutive epochs. Stopping.\n",
      "Iteration 1, loss = 1.90158145\n",
      "Iteration 2, loss = 0.55711223\n",
      "Iteration 3, loss = 0.55325794\n",
      "Iteration 4, loss = 0.56521938\n",
      "Iteration 5, loss = 0.57158671\n",
      "Iteration 6, loss = 0.63126295\n",
      "Training loss did not improve more than tol=0.000100 for two consecutive epochs. Stopping.\n",
      "Iteration 1, loss = 2.65144649\n",
      "Iteration 2, loss = 0.57765408\n",
      "Iteration 3, loss = 0.57696211\n",
      "Iteration 4, loss = 0.56714671\n",
      "Iteration 5, loss = 0.56608070\n",
      "Iteration 6, loss = 0.73969243\n",
      "Iteration 7, loss = 0.60123629\n",
      "Iteration 8, loss = 0.66180698\n",
      "Training loss did not improve more than tol=0.000100 for two consecutive epochs. Stopping.\n",
      "Iteration 1, loss = 2.56037413\n",
      "Iteration 2, loss = 0.60252552\n",
      "Iteration 3, loss = 0.64721225\n",
      "Iteration 4, loss = 0.59448347\n",
      "Iteration 5, loss = 0.69798195\n",
      "Iteration 6, loss = 0.81228169\n",
      "Iteration 7, loss = 0.68455238\n",
      "Training loss did not improve more than tol=0.000100 for two consecutive epochs. Stopping.\n",
      "Iteration 1, loss = 2.81892793\n",
      "Iteration 2, loss = 0.61804934\n",
      "Iteration 3, loss = 0.62878777\n",
      "Iteration 4, loss = 0.81540166\n",
      "Iteration 5, loss = 0.59542953\n",
      "Iteration 6, loss = 0.84162777\n",
      "Iteration 7, loss = 0.62342493\n",
      "Iteration 8, loss = 0.69802467\n",
      "Training loss did not improve more than tol=0.000100 for two consecutive epochs. Stopping.\n",
      "Iteration 1, loss = 3.01267335\n",
      "Iteration 2, loss = 0.56274408\n",
      "Iteration 3, loss = 0.84210855\n",
      "Iteration 4, loss = 0.78154909\n",
      "Iteration 5, loss = 0.59918399\n",
      "Training loss did not improve more than tol=0.000100 for two consecutive epochs. Stopping.\n",
      "Iteration 1, loss = 1.71565192\n",
      "Iteration 2, loss = 0.75497768\n",
      "Iteration 3, loss = 0.79574142\n",
      "Iteration 4, loss = 0.93079864\n",
      "Iteration 5, loss = 0.62655920\n",
      "Iteration 6, loss = 0.60103673\n",
      "Iteration 7, loss = 1.09518188\n",
      "Iteration 8, loss = 0.72950380\n",
      "Iteration 9, loss = 0.76776556\n",
      "Training loss did not improve more than tol=0.000100 for two consecutive epochs. Stopping.\n",
      "Iteration 1, loss = 3.49277640\n",
      "Iteration 2, loss = 0.67217069\n",
      "Iteration 3, loss = 1.07399726\n",
      "Iteration 4, loss = 1.00391856\n",
      "Iteration 5, loss = 0.76047659\n",
      "Training loss did not improve more than tol=0.000100 for two consecutive epochs. Stopping.\n",
      "Iteration 1, loss = 4.51424349\n",
      "Iteration 2, loss = 0.61825968\n",
      "Iteration 3, loss = 0.70899929\n",
      "Iteration 4, loss = 1.19445159\n",
      "Iteration 5, loss = 1.12158947\n",
      "Training loss did not improve more than tol=0.000100 for two consecutive epochs. Stopping.\n",
      "Iteration 1, loss = 3.87731177\n",
      "Iteration 2, loss = 0.83750152\n",
      "Iteration 3, loss = 0.98972815\n",
      "Iteration 4, loss = 1.29161054\n",
      "Iteration 5, loss = 0.97226646\n",
      "Training loss did not improve more than tol=0.000100 for two consecutive epochs. Stopping.\n",
      "Iteration 1, loss = 3.32227181\n",
      "Iteration 2, loss = 0.79727302\n",
      "Iteration 3, loss = 1.93779119\n",
      "Iteration 4, loss = 1.45743529\n",
      "Iteration 5, loss = 0.74180108\n",
      "Iteration 6, loss = 0.95695351\n",
      "Iteration 7, loss = 0.84990462\n",
      "Iteration 8, loss = 1.00388628\n",
      "Training loss did not improve more than tol=0.000100 for two consecutive epochs. Stopping.\n",
      "Iteration 1, loss = 3.44932631\n",
      "Iteration 2, loss = 0.73147900\n",
      "Iteration 3, loss = 0.99416824\n",
      "Iteration 4, loss = 1.20485996\n",
      "Iteration 5, loss = 1.19630061\n",
      "Training loss did not improve more than tol=0.000100 for two consecutive epochs. Stopping.\n",
      "Iteration 1, loss = 2.41629984\n",
      "Iteration 2, loss = 1.39203122\n",
      "Iteration 3, loss = 1.34210713\n",
      "Iteration 4, loss = 3.51385518\n",
      "Iteration 5, loss = 2.27206720\n",
      "Iteration 6, loss = 1.18981694\n",
      "Iteration 7, loss = 1.34599741\n",
      "Iteration 8, loss = 0.80790605\n",
      "Iteration 9, loss = 0.76601121\n",
      "Iteration 10, loss = 1.06574473\n",
      "Iteration 11, loss = 1.26561684\n",
      "Iteration 12, loss = 0.65051555\n",
      "Iteration 13, loss = 1.19556596\n",
      "Iteration 14, loss = 1.46854404\n",
      "Iteration 15, loss = 1.32040501\n",
      "Training loss did not improve more than tol=0.000100 for two consecutive epochs. Stopping.\n",
      "Iteration 1, loss = 5.33762026\n",
      "Iteration 2, loss = 1.24134155\n",
      "Iteration 3, loss = 0.91049593\n",
      "Iteration 4, loss = 1.23912667\n",
      "Iteration 5, loss = 0.98479387\n",
      "Iteration 6, loss = 0.85740739\n",
      "Iteration 7, loss = 1.36806258\n",
      "Iteration 8, loss = 1.30563654\n",
      "Iteration 9, loss = 1.24441494\n",
      "Training loss did not improve more than tol=0.000100 for two consecutive epochs. Stopping.\n",
      "Iteration 1, loss = 3.28251254\n",
      "Iteration 2, loss = 1.34215433\n",
      "Iteration 3, loss = 1.13420245\n",
      "Iteration 4, loss = 0.88029476\n",
      "Iteration 5, loss = 1.16789047\n",
      "Iteration 6, loss = 1.23153406\n",
      "Iteration 7, loss = 0.99863931\n",
      "Training loss did not improve more than tol=0.000100 for two consecutive epochs. Stopping.\n",
      "Iteration 1, loss = 4.52430575\n",
      "Iteration 2, loss = 1.22068672\n",
      "Iteration 3, loss = 1.03922466\n",
      "Iteration 4, loss = 1.44497770\n",
      "Iteration 5, loss = 1.15341171\n",
      "Iteration 6, loss = 3.48593606\n",
      "Training loss did not improve more than tol=0.000100 for two consecutive epochs. Stopping.\n"
     ]
    },
    {
     "data": {
      "text/plain": [
       "Text(0.5,1,\"accuracy en fonction du nombre d'unités par couche\")"
      ]
     },
     "execution_count": 53,
     "metadata": {},
     "output_type": "execute_result"
    },
    {
     "data": {
      "image/png": "[encoded data removed]",
      "text/plain": [
       "<Figure size 432x288 with 1 Axes>"
      ]
     },
     "metadata": {},
     "output_type": "display_data"
    }
   ],
   "source": [
    "#on fait varier le nombre d'unités par couche \n",
    "I = np.arange(1, 800, 50)\n",
    "J = np.zeros(np.shape(I))\n",
    "for i in range(len(I)):\n",
    "    X = df.loc[:, df.columns != 'is_alive']\n",
    "    y = df.loc[:, 'is_alive']\n",
    "    X_train, X_test, y_train, y_test = train_test_split(X, y)\n",
    "\n",
    "    mlp = MLPClassifier(activation='relu', hidden_layer_sizes=(I[i],), verbose=True)\n",
    "    mlp.fit(X_train, y_train)\n",
    "\n",
    "    svc = SVC()\n",
    "    svc.fit(X_train, y_train)\n",
    "    ac = accuracy_score(y_test, svc.predict(X_test))\n",
    "    J[i]+=ac\n",
    "    \n",
    "plt.plot(I,J)\n",
    "plt.title(\"accuracy en fonction du nombre d'unités par couche\")"
   ]
  },
  {
   "cell_type": "code",
   "execution_count": 19,
   "metadata": {},
   "outputs": [
    {
     "name": "stdout",
     "output_type": "stream",
     "text": [
      "Iteration 1, loss = 0.62116690\n",
      "Iteration 2, loss = 0.61015721\n",
      "Iteration 3, loss = 0.60051077\n",
      "Iteration 4, loss = 0.59200302\n",
      "Iteration 5, loss = 0.58454132\n",
      "Iteration 6, loss = 0.57801611\n",
      "Iteration 7, loss = 0.57230716\n",
      "Iteration 8, loss = 0.56740498\n",
      "Iteration 9, loss = 0.56315688\n",
      "Iteration 10, loss = 0.55950586\n",
      "Iteration 11, loss = 0.55637467\n",
      "Iteration 12, loss = 0.55373500\n",
      "Iteration 13, loss = 0.55149838\n",
      "Iteration 14, loss = 0.54961719\n",
      "Iteration 15, loss = 0.54806168\n",
      "Iteration 16, loss = 0.54674884\n",
      "Iteration 17, loss = 0.54567136\n",
      "Iteration 18, loss = 0.54478155\n",
      "Iteration 19, loss = 0.54407558\n",
      "Iteration 20, loss = 0.54349951\n",
      "Iteration 21, loss = 0.54303765\n",
      "Iteration 22, loss = 0.54265999\n",
      "Iteration 23, loss = 0.54236844\n",
      "Iteration 24, loss = 0.54213046\n",
      "Iteration 25, loss = 0.54196510\n",
      "Iteration 26, loss = 0.54182339\n",
      "Iteration 27, loss = 0.54171950\n",
      "Iteration 28, loss = 0.54164256\n",
      "Iteration 29, loss = 0.54158299\n",
      "Iteration 30, loss = 0.54154270\n",
      "Training loss did not improve more than tol=0.000100 for two consecutive epochs. Stopping.\n",
      "Iteration 1, loss = 0.80262507\n",
      "Iteration 2, loss = 0.53722607\n",
      "Iteration 3, loss = 0.53928765\n",
      "Iteration 4, loss = 0.53751651\n",
      "Iteration 5, loss = 0.53714759\n",
      "Training loss did not improve more than tol=0.000100 for two consecutive epochs. Stopping.\n",
      "Iteration 1, loss = 0.55760661\n",
      "Iteration 2, loss = 0.54098048\n",
      "Iteration 3, loss = 0.54083012\n",
      "Iteration 4, loss = 0.54144961\n",
      "Iteration 5, loss = 0.54109017\n",
      "Iteration 6, loss = 0.54129898\n",
      "Training loss did not improve more than tol=0.000100 for two consecutive epochs. Stopping.\n",
      "Iteration 1, loss = 2.35728533\n",
      "Iteration 2, loss = 0.69755391\n",
      "Iteration 3, loss = 0.63550685\n",
      "Iteration 4, loss = 0.59419673\n",
      "Iteration 5, loss = 0.65126636\n",
      "Iteration 6, loss = 0.57857356\n",
      "Iteration 7, loss = 0.57048293\n",
      "Iteration 8, loss = 0.56758081\n",
      "Iteration 9, loss = 0.57923830\n",
      "Iteration 10, loss = 0.58665472\n",
      "Iteration 11, loss = 0.56570493\n",
      "Iteration 12, loss = 0.59018835\n",
      "Iteration 13, loss = 0.58466413\n",
      "Iteration 14, loss = 0.56070392\n",
      "Iteration 15, loss = 0.55303278\n",
      "Iteration 16, loss = 0.55755949\n",
      "Iteration 17, loss = 0.57940570\n",
      "Iteration 18, loss = 0.56288482\n",
      "Training loss did not improve more than tol=0.000100 for two consecutive epochs. Stopping.\n",
      "Iteration 1, loss = 0.54783873\n",
      "Iteration 2, loss = 0.54000972\n",
      "Iteration 3, loss = 0.53997737\n",
      "Iteration 4, loss = 0.54047434\n",
      "Iteration 5, loss = 0.54171894\n",
      "Training loss did not improve more than tol=0.000100 for two consecutive epochs. Stopping.\n"
     ]
    },
    {
     "data": {
      "text/plain": [
       "Text(0.5,1,'accuracy en fonction du nombre de couches')"
      ]
     },
     "execution_count": 19,
     "metadata": {},
     "output_type": "execute_result"
    },
    {
     "data": {
      "image/png": "[encoded data removed]",
      "text/plain": [
       "<Figure size 432x288 with 1 Axes>"
      ]
     },
     "metadata": {},
     "output_type": "display_data"
    }
   ],
   "source": [
    "#on fait varier le nombre de couches\n",
    "I = np.arange(0, 500, 100)\n",
    "I[0] = 1\n",
    "J = np.zeros(np.shape(I))\n",
    "hls = []\n",
    "for i in range(len(I)):\n",
    "    X = df.loc[:, df.columns != 'is_alive']\n",
    "    y = df.loc[:, 'is_alive']\n",
    "    X_train, X_test, y_train, y_test = train_test_split(X, y)\n",
    "    hls += [I[i]]\n",
    "    mlp = MLPClassifier(activation='relu', hidden_layer_sizes=hls, verbose=True)\n",
    "    mlp.fit(X_train, y_train)\n",
    "\n",
    "    svc = SVC()\n",
    "    svc.fit(X_train, y_train)\n",
    "    ac = accuracy_score(y_test, svc.predict(X_test))\n",
    "    J[i]+=ac\n",
    "    \n",
    "plt.plot(np.array([1,2,3,4, 5]),J)\n",
    "plt.title('accuracy en fonction du nombre de couches')"
   ]
  },
  {
   "cell_type": "code",
   "execution_count": 7,
   "metadata": {},
   "outputs": [],
   "source": [
    "#comparaison entre méthodes"
   ]
  },
  {
   "cell_type": "code",
   "execution_count": 14,
   "metadata": {},
   "outputs": [
    {
     "name": "stdout",
     "output_type": "stream",
     "text": [
      "Accuracy : 0.7697709923664122\n",
      "Matrice de confusion :\n",
      "[[   0  754]\n",
      " [   0 2521]]\n",
      "Précision du modèle (SVM non linéaire) : 76.92%\n",
      "Matrice de confusion (SVM non linéaire) :\n",
      "[[   0  754]\n",
      " [   2 2519]]\n"
     ]
    }
   ],
   "source": [
    "from sklearn import svm\n",
    "from sklearn.metrics import confusion_matrix\n",
    "\n",
    "\n",
    "X = df.drop(columns=['is_alive'], axis=1)\n",
    "y = df['is_alive']\n",
    "X_train, X_test, y_train, y_test = train_test_split(X, y, test_size=0.2, random_state=42)\n",
    "clf1 = svm.SVC(kernel='linear')\n",
    "clf1.fit(X_train, y_train)\n",
    "y_pred = clf1.predict(X_test)\n",
    "accuracy = accuracy_score(y_test, y_pred)\n",
    "print(f'Accuracy : {accuracy}')\n",
    "matrice_confusion = confusion_matrix(y_test, y_pred)\n",
    "print(f'Matrice de confusion :\\n{matrice_confusion}')\n",
    "clf_non_linear = SVC(kernel='rbf')\n",
    "clf_non_linear.fit(X_train, y_train)\n",
    "y_pred_non_linear = clf_non_linear.predict(X_test)\n",
    "accuracy_non_linear = accuracy_score(y_test, y_pred_non_linear)\n",
    "print(f'Précision du modèle (SVM non linéaire) : {accuracy_non_linear * 100:.2f}%')\n",
    "matrice_confusion_non_linear = confusion_matrix(y_test, y_pred_non_linear)\n",
    "print(f'Matrice de confusion (SVM non linéaire) :\\n{matrice_confusion_non_linear}')"
   ]
  },
  {
   "cell_type": "code",
   "execution_count": 20,
   "metadata": {},
   "outputs": [
    {
     "name": "stdout",
     "output_type": "stream",
     "text": [
      "Iteration 1, loss = 1.60790692\n",
      "Iteration 2, loss = 0.58795660\n",
      "Iteration 3, loss = 0.57734955\n",
      "Iteration 4, loss = 0.58112971\n",
      "Iteration 5, loss = 0.61936979\n",
      "Iteration 6, loss = 0.59230752\n",
      "Training loss did not improve more than tol=0.000100 for two consecutive epochs. Stopping.\n"
     ]
    }
   ],
   "source": [
    "#on fait varier le nombre de couches\n",
    "\n",
    "\n",
    "X = df.loc[:, df.columns != 'is_alive']\n",
    "y = df.loc[:, 'is_alive']\n",
    "X_train, X_test, y_train, y_test = train_test_split(X, y, test_size=0.2)\n",
    "\n",
    "mlp = MLPClassifier(activation='relu', hidden_layer_sizes=(100, 100, 100, 100), verbose=True)\n",
    "mlp.fit(X_train, y_train)\n",
    "\n",
    "svc = SVC()\n",
    "svc.fit(X_train, y_train)\n",
    "ac = accuracy_score(y_test, svc.predict(X_test))"
   ]
  },
  {
   "cell_type": "code",
   "execution_count": 21,
   "metadata": {},
   "outputs": [
    {
     "name": "stdout",
     "output_type": "stream",
     "text": [
      "accuracy = 0.7706870229007634\n"
     ]
    }
   ],
   "source": [
    "print(f\"accuracy = {ac}\")"
   ]
  },
  {
   "cell_type": "code",
   "execution_count": null,
   "metadata": {},
   "outputs": [],
   "source": []
  }
 ],
 "metadata": {
  "kernelspec": {
   "display_name": "Python 3 (ipykernel)",
   "language": "python",
   "name": "python3"
  },
  "language_info": {
   "codemirror_mode": {
    "name": "ipython",
    "version": 3
   },
   "file_extension": ".py",
   "mimetype": "text/x-python",
   "name": "python",
   "nbconvert_exporter": "python",
   "pygments_lexer": "ipython3",
   "version": "3.11.4"
  }
 },
 "nbformat": 4,
 "nbformat_minor": 2
}
